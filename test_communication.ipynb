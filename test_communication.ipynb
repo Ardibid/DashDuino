{
 "cells": [
  {
   "cell_type": "code",
   "execution_count": 1,
   "metadata": {},
   "outputs": [],
   "source": [
    "import socket\n",
    "import time"
   ]
  },
  {
   "cell_type": "code",
   "execution_count": 2,
   "metadata": {},
   "outputs": [
    {
     "name": "stdout",
     "output_type": "stream",
     "text": [
      "b'$20 1 4 1;'\n"
     ]
    }
   ],
   "source": [
    "client = None\n",
    "client = socket.socket(socket.AF_INET, socket.SOCK_STREAM)\n",
    "\n",
    "if client:   \n",
    "    abb_ip = '127.0.0.1'\n",
    "    abb_port = 7000\n",
    "    buffer_size = 1024\n",
    "    client.connect((abb_ip,abb_port))\n",
    "\n",
    "    msg = client.recv(buffer_size)\n",
    "    print (msg)\n"
   ]
  },
  {
   "cell_type": "code",
   "execution_count": 4,
   "metadata": {},
   "outputs": [
    {
     "name": "stdout",
     "output_type": "stream",
     "text": [
      "b'@2 18;'\n"
     ]
    }
   ],
   "source": [
    "cmd = \"@33 1 384.354 20 614 0.5 0 0.866 0;\"\n",
    "#cmd = \"DefineTool (welder, 125.800591, 0, 391.268161, 0.615661,0,-0.788011,  0,-1.0,0,3, 0,0,100);\"\n",
    "cmd = \"@11 5 0.3;\"\n",
    "cmd = \"@10 4 1000;\"\n",
    "cmd = \"@1 7 Connected to Console!;\"\n",
    "try:\n",
    "    client.send(bytes(cmd, \"ascii\"))\n",
    "    time.sleep(1)\n",
    "    msg = client.recv(buffer_size)\n",
    "    print(msg)\n",
    "    \n",
    "except:\n",
    "    print (\"NASHOD!\")"
   ]
  },
  {
   "cell_type": "code",
   "execution_count": 54,
   "metadata": {},
   "outputs": [],
   "source": [
    "client.close()"
   ]
  },
  {
   "cell_type": "code",
   "execution_count": 40,
   "metadata": {},
   "outputs": [
    {
     "ename": "ConnectionAbortedError",
     "evalue": "[WinError 10053] An established connection was aborted by the software in your host machine",
     "output_type": "error",
     "traceback": [
      "\u001b[1;31m---------------------------------------------------------------------------\u001b[0m",
      "\u001b[1;31mConnectionAbortedError\u001b[0m                    Traceback (most recent call last)",
      "\u001b[1;32m<ipython-input-40-e63cc71f1c7d>\u001b[0m in \u001b[0;36m<module>\u001b[1;34m\u001b[0m\n\u001b[0;32m      1\u001b[0m \u001b[1;31m#[@IDNUM ]INSCODE[ \"stringParam\"][ p0 p1 p2 ... p11]STR_MESSAGE_END_CHAR line 671\u001b[0m\u001b[1;33m\u001b[0m\u001b[1;33m\u001b[0m\u001b[1;33m\u001b[0m\u001b[0m\n\u001b[0;32m      2\u001b[0m \u001b[0mcmd\u001b[0m \u001b[1;33m=\u001b[0m \u001b[1;34m\"@18 32;\"\u001b[0m\u001b[1;33m\u001b[0m\u001b[1;33m\u001b[0m\u001b[0m\n\u001b[1;32m----> 3\u001b[1;33m \u001b[0mclient\u001b[0m\u001b[1;33m.\u001b[0m\u001b[0msend\u001b[0m\u001b[1;33m(\u001b[0m\u001b[0mbytes\u001b[0m\u001b[1;33m(\u001b[0m\u001b[0mcmd\u001b[0m\u001b[1;33m,\u001b[0m \u001b[1;34m\"ascii\"\u001b[0m\u001b[1;33m)\u001b[0m\u001b[1;33m)\u001b[0m\u001b[1;33m\u001b[0m\u001b[1;33m\u001b[0m\u001b[0m\n\u001b[0m\u001b[0;32m      4\u001b[0m \u001b[1;33m\u001b[0m\u001b[0m\n",
      "\u001b[1;31mConnectionAbortedError\u001b[0m: [WinError 10053] An established connection was aborted by the software in your host machine"
     ]
    }
   ],
   "source": [
    "#[@IDNUM ]INSCODE[ \"stringParam\"][ p0 p1 p2 ... p11]STR_MESSAGE_END_CHAR line 671\n",
    "cmd = \"@18 32;\"\n",
    "client.send(bytes(cmd, \"ascii\"))\n",
    " "
   ]
  },
  {
   "cell_type": "code",
   "execution_count": null,
   "metadata": {},
   "outputs": [],
   "source": []
  }
 ],
 "metadata": {
  "interpreter": {
   "hash": "3ed0608609f96dcaedd3e10ceee0e8d3ff2f614f7c50adf60fe52e2d5ee80c69"
  },
  "kernelspec": {
   "display_name": "Python 3.7.6 64-bit ('base': conda)",
   "language": "python",
   "name": "python3"
  },
  "language_info": {
   "codemirror_mode": {
    "name": "ipython",
    "version": 3
   },
   "file_extension": ".py",
   "mimetype": "text/x-python",
   "name": "python",
   "nbconvert_exporter": "python",
   "pygments_lexer": "ipython3",
   "version": "3.7.6"
  },
  "orig_nbformat": 4
 },
 "nbformat": 4,
 "nbformat_minor": 2
}
